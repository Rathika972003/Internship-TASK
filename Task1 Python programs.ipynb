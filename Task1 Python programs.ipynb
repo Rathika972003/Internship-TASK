{
 "cells": [
  {
   "cell_type": "code",
   "execution_count": 15,
   "id": "362f6664-fb00-47ab-92f2-6bcabeaa6566",
   "metadata": {},
   "outputs": [
    {
     "name": "stdout",
     "output_type": "stream",
     "text": [
      "0\n",
      "1\n",
      "2\n",
      "4\n",
      "5\n",
      "6\n"
     ]
    }
   ],
   "source": [
    "for i in range(7):\n",
    "    if i == 3:\n",
    "     continue   \n",
    "    print(i)"
   ]
  },
  {
   "cell_type": "code",
   "execution_count": 1,
   "id": "60780188-b225-43d1-b7da-76c2b11cd596",
   "metadata": {},
   "outputs": [
    {
     "name": "stdout",
     "output_type": "stream",
     "text": [
      "\n",
      "1\n",
      "12\n",
      "123\n",
      "1234\n",
      "12345"
     ]
    }
   ],
   "source": [
    "for i in range(1,6):\n",
    "   print()\n",
    "   for j in range(1,i+1):\n",
    "       print(j,end=\"\")"
   ]
  },
  {
   "cell_type": "code",
   "execution_count": 3,
   "id": "599b61f6-1b21-4c7e-a68d-23e1be41203e",
   "metadata": {},
   "outputs": [
    {
     "name": "stdout",
     "output_type": "stream",
     "text": [
      "Prime numbers between 50 and 100 are:\n",
      "53\n",
      "59\n",
      "61\n",
      "67\n",
      "71\n",
      "73\n",
      "79\n",
      "83\n",
      "89\n",
      "97\n"
     ]
    }
   ],
   "source": [
    "print(\"Prime numbers between 50 and 100 are:\")\n",
    "for num in range(50, 101):\n",
    "    if num > 1:\n",
    "        for i in range(2, (num // 2) + 1):\n",
    "            if num % i == 0:\n",
    "                break\n",
    "        else:\n",
    "            print(num)"
   ]
  },
  {
   "cell_type": "code",
   "execution_count": 25,
   "id": "00ac014d-d749-4d8f-9334-b77759804c7a",
   "metadata": {},
   "outputs": [
    {
     "name": "stdout",
     "output_type": "stream",
     "text": [
      "rev: dlrow olleH \n"
     ]
    }
   ],
   "source": [
    "s=\"Hello world\"\n",
    "rev=\" \"\n",
    "for char in s :\n",
    "  rev=char+rev\n",
    "print(\"rev:\",rev)"
   ]
  },
  {
   "cell_type": "code",
   "execution_count": 54,
   "id": "a3846b26-eae9-40ad-bb00-cfb080dbb9bd",
   "metadata": {},
   "outputs": [
    {
     "name": "stdout",
     "output_type": "stream",
     "text": [
      "153\n",
      "370\n",
      "371\n",
      "407\n"
     ]
    }
   ],
   "source": [
    "for i in range(100,999):\n",
    "    a=i\n",
    "    sum=0\n",
    "    while(i>0):\n",
    "        rem=i%10\n",
    "        sum=sum+(rem*rem*rem)\n",
    "        i=i//10\n",
    "    if(sum==a):\n",
    "        print(a)"
   ]
  },
  {
   "cell_type": "code",
   "execution_count": 60,
   "id": "64ff28e6-1b92-401d-a12d-04286d22287b",
   "metadata": {},
   "outputs": [
    {
     "name": "stdout",
     "output_type": "stream",
     "text": [
      "1\n",
      "2\n",
      "fizz\n",
      "4\n",
      "buzz\n",
      "fizz\n",
      "7\n",
      "8\n",
      "fizz\n",
      "buzz\n",
      "11\n",
      "fizz\n",
      "13\n",
      "14\n",
      "fizzbuzz\n",
      "16\n",
      "17\n",
      "fizz\n",
      "19\n",
      "buzz\n",
      "fizz\n",
      "22\n",
      "23\n",
      "fizz\n",
      "buzz\n",
      "26\n",
      "fizz\n",
      "28\n",
      "29\n",
      "fizzbuzz\n",
      "31\n",
      "32\n",
      "fizz\n",
      "34\n",
      "buzz\n",
      "fizz\n",
      "37\n",
      "38\n",
      "fizz\n",
      "buzz\n",
      "41\n",
      "fizz\n",
      "43\n",
      "44\n",
      "fizzbuzz\n",
      "46\n",
      "47\n",
      "fizz\n",
      "49\n",
      "buzz\n"
     ]
    }
   ],
   "source": [
    "for i in range(1, 51):\n",
    "    if i % 3 == 0 and i % 5 == 0:\n",
    "        print(\"fizzbuzz\")\n",
    "    elif i % 3 == 0:\n",
    "        print(\"fizz\")\n",
    "    elif i % 5 == 0:\n",
    "        print(\"buzz\")\n",
    "    else:\n",
    "        print(i)"
   ]
  },
  {
   "cell_type": "code",
   "execution_count": 62,
   "id": "b45c5369-6c96-4095-844f-ddf1f7b7a00f",
   "metadata": {},
   "outputs": [
    {
     "name": "stdin",
     "output_type": "stream",
     "text": [
      "Enter a number:  121\n"
     ]
    },
    {
     "name": "stdout",
     "output_type": "stream",
     "text": [
      "121 is a palindrome.\n"
     ]
    }
   ],
   "source": [
    "num = int(input(\"Enter a number: \"))\n",
    "\n",
    "reversed_num = int(str(num)[::-1])\n",
    "if num == reversed_num:\n",
    "    print(f\"{num} is a palindrome.\")\n",
    "else:\n",
    "    print(f\"{num} is not a palindrome.\")\n"
   ]
  },
  {
   "cell_type": "code",
   "execution_count": 64,
   "id": "95a683e2-080a-4315-9fda-0b993fe2fc87",
   "metadata": {},
   "outputs": [
    {
     "name": "stdin",
     "output_type": "stream",
     "text": [
      "Enter a number:  6\n"
     ]
    },
    {
     "name": "stdout",
     "output_type": "stream",
     "text": [
      "6 is a perfect number.\n"
     ]
    }
   ],
   "source": [
    "num = int(input(\"Enter a number: \"))\n",
    "sum=0\n",
    "for i in range(1, num):\n",
    "    if num % i == 0:  \n",
    "        sum+= i\n",
    "        \n",
    "if sum == num:\n",
    "    print(f\"{num} is a perfect number.\")\n",
    "else:\n",
    "    print(f\"{num} is not a perfect number.\")"
   ]
  },
  {
   "cell_type": "code",
   "execution_count": 68,
   "id": "2df9abbd-38bf-47c3-b5be-4636f3bb0a96",
   "metadata": {},
   "outputs": [
    {
     "name": "stdin",
     "output_type": "stream",
     "text": [
      "Enter a sentence:  hello , this is rathika\n"
     ]
    },
    {
     "name": "stdout",
     "output_type": "stream",
     "text": [
      "The number of words in the sentence is: 5\n"
     ]
    }
   ],
   "source": [
    "sentence = input(\"Enter a sentence: \")\n",
    "words = sentence.split()\n",
    "word_count = len(words)\n",
    "print(f\"The number of words in the sentence is: {word_count}\")"
   ]
  },
  {
   "cell_type": "code",
   "execution_count": 70,
   "id": "062b0b91-16c8-4f21-b4ec-05d571f56fda",
   "metadata": {},
   "outputs": [
    {
     "name": "stdin",
     "output_type": "stream",
     "text": [
      "Enter a string:  hello\n"
     ]
    },
    {
     "name": "stdout",
     "output_type": "stream",
     "text": [
      "Character occurrences:\n",
      "'h': 1\n",
      "'e': 1\n",
      "'l': 2\n",
      "'o': 1\n"
     ]
    }
   ],
   "source": [
    "string = input(\"Enter a string: \")\n",
    "\n",
    "char_count = {}\n",
    "\n",
    "for char in string:\n",
    "    char_count[char] = char_count.get(char, 0) + 1\n",
    "    \n",
    "print(\"Character occurrences:\")\n",
    "for char, count in char_count.items():\n",
    "    print(f\"'{char}': {count}\")"
   ]
  },
  {
   "cell_type": "code",
   "execution_count": 72,
   "id": "b4eff4b7-7989-4f64-a235-af167b2e3eb2",
   "metadata": {},
   "outputs": [
    {
     "name": "stdout",
     "output_type": "stream",
     "text": [
      "The largest palindrome in the list is: racecar\n"
     ]
    }
   ],
   "source": [
    "strings = [\"racecar\", \"hello\", \"madam\", \"world\", \"level\", \"python\"]\n",
    "\n",
    "def is_palindrome(s):\n",
    "    return s == s[::-1] \n",
    "\n",
    "palindromes = [s for s in strings if is_palindrome(s)]\n",
    "if palindromes:\n",
    "    largest_palindrome = max(palindromes, key=len)\n",
    "    print(f\"The largest palindrome in the list is: {largest_palindrome}\")\n",
    "else:\n",
    "    print(\"No palindromes found in the list.\")"
   ]
  },
  {
   "cell_type": "code",
   "execution_count": 74,
   "id": "f6d2029d-fd57-48d5-88cd-21a7467f9b6b",
   "metadata": {},
   "outputs": [
    {
     "name": "stdout",
     "output_type": "stream",
     "text": [
      "The smallest missing positive number is: 2\n"
     ]
    }
   ],
   "source": [
    "def find_smallest_missing_positive(nums):\n",
    "    nums = [num for num in nums if num > 0]\n",
    "    nums_set = set(nums)\n",
    "    smallest_missing = 1\n",
    "    while smallest_missing in nums_set:\n",
    "        smallest_missing += 1\n",
    "    \n",
    "    return smallest_missing\n",
    "nums = [3, 4, -1, 1]\n",
    "\n",
    "result = find_smallest_missing_positive(nums)\n",
    "print(f\"The smallest missing positive number is: {result}\")"
   ]
  },
  {
   "cell_type": "code",
   "execution_count": 76,
   "id": "79f1ac0d-8f8a-4ffd-8a87-3fdeef35db7e",
   "metadata": {},
   "outputs": [
    {
     "name": "stdin",
     "output_type": "stream",
     "text": [
      "Enter a sentence:  hello this is rathika\n"
     ]
    },
    {
     "name": "stdout",
     "output_type": "stream",
     "text": [
      "The longest word in the sentence is: rathika\n"
     ]
    }
   ],
   "source": [
    "sentence = input(\"Enter a sentence: \")\n",
    "\n",
    "words = sentence.split()\n",
    "longest_word = max(words, key=len)\n",
    "print(f\"The longest word in the sentence is: {longest_word}\")"
   ]
  },
  {
   "cell_type": "code",
   "execution_count": null,
   "id": "b9cd6ceb-f390-448b-9159-4d3b76fa27d4",
   "metadata": {},
   "outputs": [],
   "source": []
  }
 ],
 "metadata": {
  "kernelspec": {
   "display_name": "Python 3 (ipykernel)",
   "language": "python",
   "name": "python3"
  },
  "language_info": {
   "codemirror_mode": {
    "name": "ipython",
    "version": 3
   },
   "file_extension": ".py",
   "mimetype": "text/x-python",
   "name": "python",
   "nbconvert_exporter": "python",
   "pygments_lexer": "ipython3",
   "version": "3.12.4"
  }
 },
 "nbformat": 4,
 "nbformat_minor": 5
}
